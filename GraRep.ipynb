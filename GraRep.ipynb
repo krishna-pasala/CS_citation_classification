{
  "nbformat": 4,
  "nbformat_minor": 0,
  "metadata": {
    "colab": {
      "provenance": []
    },
    "kernelspec": {
      "name": "python3",
      "display_name": "Python 3"
    },
    "language_info": {
      "name": "python"
    }
  },
  "cells": [
    {
      "cell_type": "code",
      "source": [
        "!pip install -U gensim karateclub ogb "
      ],
      "metadata": {
        "colab": {
          "base_uri": "https://localhost:8080/"
        },
        "id": "8d_MJwuOQ69D",
        "outputId": "215c54c6-a645-462f-9622-92667ba19244"
      },
      "execution_count": null,
      "outputs": [
        {
          "output_type": "stream",
          "name": "stdout",
          "text": [
            "Looking in indexes: https://pypi.org/simple, https://us-python.pkg.dev/colab-wheels/public/simple/\n",
            "Requirement already satisfied: gensim in /usr/local/lib/python3.7/dist-packages (4.2.0)\n",
            "Requirement already satisfied: karateclub in /usr/local/lib/python3.7/dist-packages (1.3.3)\n",
            "Requirement already satisfied: ogb in /usr/local/lib/python3.7/dist-packages (1.3.5)\n",
            "Requirement already satisfied: smart-open>=1.8.1 in /usr/local/lib/python3.7/dist-packages (from gensim) (5.2.1)\n",
            "Requirement already satisfied: numpy>=1.17.0 in /usr/local/lib/python3.7/dist-packages (from gensim) (1.21.6)\n",
            "Requirement already satisfied: scipy>=0.18.1 in /usr/local/lib/python3.7/dist-packages (from gensim) (1.7.3)\n",
            "Requirement already satisfied: pygsp in /usr/local/lib/python3.7/dist-packages (from karateclub) (0.5.1)\n",
            "Requirement already satisfied: networkx<2.7 in /usr/local/lib/python3.7/dist-packages (from karateclub) (2.6.3)\n",
            "Requirement already satisfied: pandas<=1.3.5 in /usr/local/lib/python3.7/dist-packages (from karateclub) (1.3.5)\n",
            "Requirement already satisfied: python-louvain in /usr/local/lib/python3.7/dist-packages (from karateclub) (0.16)\n",
            "Requirement already satisfied: six in /usr/local/lib/python3.7/dist-packages (from karateclub) (1.15.0)\n",
            "Requirement already satisfied: tqdm in /usr/local/lib/python3.7/dist-packages (from karateclub) (4.64.1)\n",
            "Requirement already satisfied: python-Levenshtein in /usr/local/lib/python3.7/dist-packages (from karateclub) (0.20.8)\n",
            "Requirement already satisfied: decorator==4.4.2 in /usr/local/lib/python3.7/dist-packages (from karateclub) (4.4.2)\n",
            "Requirement already satisfied: scikit-learn in /usr/local/lib/python3.7/dist-packages (from karateclub) (1.0.2)\n",
            "Requirement already satisfied: python-dateutil>=2.7.3 in /usr/local/lib/python3.7/dist-packages (from pandas<=1.3.5->karateclub) (2.8.2)\n",
            "Requirement already satisfied: pytz>=2017.3 in /usr/local/lib/python3.7/dist-packages (from pandas<=1.3.5->karateclub) (2022.6)\n",
            "Requirement already satisfied: urllib3>=1.24.0 in /usr/local/lib/python3.7/dist-packages (from ogb) (1.24.3)\n",
            "Requirement already satisfied: outdated>=0.2.0 in /usr/local/lib/python3.7/dist-packages (from ogb) (0.2.2)\n",
            "Requirement already satisfied: torch>=1.6.0 in /usr/local/lib/python3.7/dist-packages (from ogb) (1.12.1+cu113)\n",
            "Requirement already satisfied: littleutils in /usr/local/lib/python3.7/dist-packages (from outdated>=0.2.0->ogb) (0.2.2)\n",
            "Requirement already satisfied: setuptools>=44 in /usr/local/lib/python3.7/dist-packages (from outdated>=0.2.0->ogb) (57.4.0)\n",
            "Requirement already satisfied: requests in /usr/local/lib/python3.7/dist-packages (from outdated>=0.2.0->ogb) (2.23.0)\n",
            "Requirement already satisfied: threadpoolctl>=2.0.0 in /usr/local/lib/python3.7/dist-packages (from scikit-learn->karateclub) (3.1.0)\n",
            "Requirement already satisfied: joblib>=0.11 in /usr/local/lib/python3.7/dist-packages (from scikit-learn->karateclub) (1.2.0)\n",
            "Requirement already satisfied: typing-extensions in /usr/local/lib/python3.7/dist-packages (from torch>=1.6.0->ogb) (4.1.1)\n",
            "Requirement already satisfied: Levenshtein==0.20.8 in /usr/local/lib/python3.7/dist-packages (from python-Levenshtein->karateclub) (0.20.8)\n",
            "Requirement already satisfied: rapidfuzz<3.0.0,>=2.3.0 in /usr/local/lib/python3.7/dist-packages (from Levenshtein==0.20.8->python-Levenshtein->karateclub) (2.13.2)\n",
            "Requirement already satisfied: chardet<4,>=3.0.2 in /usr/local/lib/python3.7/dist-packages (from requests->outdated>=0.2.0->ogb) (3.0.4)\n",
            "Requirement already satisfied: idna<3,>=2.5 in /usr/local/lib/python3.7/dist-packages (from requests->outdated>=0.2.0->ogb) (2.10)\n",
            "Requirement already satisfied: certifi>=2017.4.17 in /usr/local/lib/python3.7/dist-packages (from requests->outdated>=0.2.0->ogb) (2022.9.24)\n"
          ]
        }
      ]
    },
    {
      "cell_type": "code",
      "source": [
        "# # https://stackoverflow.com/questions/68860621/ogb-dataset-i-can-not-import-pygnodeproppreddataset-from-ogb-nodeproppred\n",
        "# # https://stackoverflow.com/questions/67285115/building-wheels-for-torch-sparse-in-colab-takes-forever/73534928#73534928\n",
        "\n",
        "# import torch\n",
        "\n",
        "# !pip uninstall torch-scatter torch-sparse torch-geometric torch-cluster  --y\n",
        "# !pip install torch-scatter -f https://data.pyg.org/whl/torch-{torch.__version__}.html\n",
        "# !pip install torch-sparse -f https://data.pyg.org/whl/torch-{torch.__version__}.html\n",
        "# !pip install torch-cluster -f https://data.pyg.org/whl/torch-{torch.__version__}.html\n",
        "# !pip install git+https://github.com/pyg-team/pytorch_geometric.git"
      ],
      "metadata": {
        "id": "UqeB38enkn4u"
      },
      "execution_count": null,
      "outputs": []
    },
    {
      "cell_type": "code",
      "execution_count": null,
      "metadata": {
        "id": "RgAhrVuf9ROe"
      },
      "outputs": [],
      "source": [
        "from karateclub import GraRep \n",
        "from ogb.nodeproppred import PygNodePropPredDataset \n",
        "from scipy.sparse import coo_matrix, identity\n",
        "from sklearn.decomposition import TruncatedSVD\n",
        "from sklearn.linear_model import LogisticRegression\n",
        "from sklearn.metrics import accuracy_score \n",
        "from sklearn.model_selection import train_test_split \n",
        "from torch_geometric.utils import to_networkx\n",
        "from typing import List \n",
        "from tqdm import tqdm \n",
        "\n",
        "import math \n",
        "import matplotlib.pyplot as plt \n",
        "import networkx as nx \n",
        "import numpy as np \n",
        "import pandas as pd \n",
        "import random \n",
        "import torch \n"
      ]
    },
    {
      "cell_type": "code",
      "source": [
        "def sparse_identity_matrix(dim, dtype=np.float32):\n",
        "    A = identity(dim, dtype=dtype) \n",
        "    A = coo_matrix(A)  \n",
        "    return A \n",
        "\n",
        "def get_target_matrix(A):\n",
        "    A_hat = sparse_identity_matrix(A.shape[0]) \n",
        "    scores = np.log(A_hat.data) - math.log(A.shape[0]) \n",
        "    rows = A_hat.row[scores < 0]\n",
        "    cols = A_hat.col[scores < 0]\n",
        "    scores = scores[scores < 0]\n",
        "    target_matrix = coo_matrix((scores, (rows, cols)),\n",
        "                                        shape=A.shape,\n",
        "                                        dtype=np.float32) \n",
        "    return target_matrix"
      ],
      "metadata": {
        "id": "3dHy36vKv2Qx"
      },
      "execution_count": null,
      "outputs": []
    },
    {
      "cell_type": "code",
      "source": [
        "dimensions = 16 \n",
        "max_nodes = None # select a subset of nodes for large datasets\n",
        "node_sampling_stategy = 'sequential' # ('random', 'sequential')\n",
        "order = 5 # K\n",
        "iterations = 20 # number of SVD iterations \n",
        "random_state = 42 \n",
        "test_size = 0.2 "
      ],
      "metadata": {
        "id": "S_WlfOjuSXBe"
      },
      "execution_count": null,
      "outputs": []
    },
    {
      "cell_type": "code",
      "source": [
        "dataset = PygNodePropPredDataset('ogbn-arxiv') \n",
        "G = to_networkx(dataset.data, to_undirected=False)\n",
        "if max_nodes is not None:\n",
        "    if node_sampling_stategy=='random':\n",
        "        subset_nodes = random.sample(G.nodes, max_nodes)\n",
        "    else:\n",
        "        subset_nodes = list(G.nodes)[:max_nodes] \n",
        "    G = G.subgraph(subset_nodes) \n",
        "    mapping = {v:w for w,v in enumerate(sorted(G))}\n",
        "    G = nx.relabel_nodes(G, mapping) "
      ],
      "metadata": {
        "id": "6vFKD4KzpWKp"
      },
      "execution_count": null,
      "outputs": []
    },
    {
      "cell_type": "code",
      "source": [
        "# calculate the inverse degree matrix \n",
        "ind = range(len(G.nodes())) \n",
        "degs = [1.0/G.degree(node) for node in range(G.number_of_nodes())] \n",
        "D_1 = coo_matrix((degs, (ind, ind)),\n",
        "                         shape=(G.number_of_nodes(), \n",
        "                         G.number_of_nodes()), \n",
        "                         dtype=np.float32) \n",
        "\n",
        "# (1-step) probability transition matrix \n",
        "A = coo_matrix(nx.adjacency_matrix(G), dtype=np.float32)\n",
        "A = A.dot(D_1)   "
      ],
      "metadata": {
        "colab": {
          "base_uri": "https://localhost:8080/",
          "height": 357
        },
        "id": "xUQE3T4vq6dS",
        "outputId": "9a5f42c2-96fa-4c66-f1c0-4bb59d2f38b5"
      },
      "execution_count": null,
      "outputs": [
        {
          "output_type": "error",
          "ename": "ZeroDivisionError",
          "evalue": "ignored",
          "traceback": [
            "\u001b[0;31m---------------------------------------------------------------------------\u001b[0m",
            "\u001b[0;31mZeroDivisionError\u001b[0m                         Traceback (most recent call last)",
            "\u001b[0;32m<ipython-input-7-1fe9c81cf6eb>\u001b[0m in \u001b[0;36m<module>\u001b[0;34m\u001b[0m\n\u001b[1;32m      1\u001b[0m \u001b[0;31m# calculate the inverse degree matrix\u001b[0m\u001b[0;34m\u001b[0m\u001b[0;34m\u001b[0m\u001b[0;34m\u001b[0m\u001b[0m\n\u001b[1;32m      2\u001b[0m \u001b[0mind\u001b[0m \u001b[0;34m=\u001b[0m \u001b[0mrange\u001b[0m\u001b[0;34m(\u001b[0m\u001b[0mlen\u001b[0m\u001b[0;34m(\u001b[0m\u001b[0mG\u001b[0m\u001b[0;34m.\u001b[0m\u001b[0mnodes\u001b[0m\u001b[0;34m(\u001b[0m\u001b[0;34m)\u001b[0m\u001b[0;34m)\u001b[0m\u001b[0;34m)\u001b[0m\u001b[0;34m\u001b[0m\u001b[0;34m\u001b[0m\u001b[0m\n\u001b[0;32m----> 3\u001b[0;31m \u001b[0mdegs\u001b[0m \u001b[0;34m=\u001b[0m \u001b[0;34m[\u001b[0m\u001b[0;36m1.0\u001b[0m\u001b[0;34m/\u001b[0m\u001b[0mG\u001b[0m\u001b[0;34m.\u001b[0m\u001b[0mdegree\u001b[0m\u001b[0;34m(\u001b[0m\u001b[0mnode\u001b[0m\u001b[0;34m)\u001b[0m \u001b[0;32mfor\u001b[0m \u001b[0mnode\u001b[0m \u001b[0;32min\u001b[0m \u001b[0mrange\u001b[0m\u001b[0;34m(\u001b[0m\u001b[0mG\u001b[0m\u001b[0;34m.\u001b[0m\u001b[0mnumber_of_nodes\u001b[0m\u001b[0;34m(\u001b[0m\u001b[0;34m)\u001b[0m\u001b[0;34m)\u001b[0m\u001b[0;34m]\u001b[0m\u001b[0;34m\u001b[0m\u001b[0;34m\u001b[0m\u001b[0m\n\u001b[0m\u001b[1;32m      4\u001b[0m D_1 = coo_matrix((degs, (ind, ind)),\n\u001b[1;32m      5\u001b[0m                          shape=(G.number_of_nodes(), \n",
            "\u001b[0;32m<ipython-input-7-1fe9c81cf6eb>\u001b[0m in \u001b[0;36m<listcomp>\u001b[0;34m(.0)\u001b[0m\n\u001b[1;32m      1\u001b[0m \u001b[0;31m# calculate the inverse degree matrix\u001b[0m\u001b[0;34m\u001b[0m\u001b[0;34m\u001b[0m\u001b[0;34m\u001b[0m\u001b[0m\n\u001b[1;32m      2\u001b[0m \u001b[0mind\u001b[0m \u001b[0;34m=\u001b[0m \u001b[0mrange\u001b[0m\u001b[0;34m(\u001b[0m\u001b[0mlen\u001b[0m\u001b[0;34m(\u001b[0m\u001b[0mG\u001b[0m\u001b[0;34m.\u001b[0m\u001b[0mnodes\u001b[0m\u001b[0;34m(\u001b[0m\u001b[0;34m)\u001b[0m\u001b[0;34m)\u001b[0m\u001b[0;34m)\u001b[0m\u001b[0;34m\u001b[0m\u001b[0;34m\u001b[0m\u001b[0m\n\u001b[0;32m----> 3\u001b[0;31m \u001b[0mdegs\u001b[0m \u001b[0;34m=\u001b[0m \u001b[0;34m[\u001b[0m\u001b[0;36m1.0\u001b[0m\u001b[0;34m/\u001b[0m\u001b[0mG\u001b[0m\u001b[0;34m.\u001b[0m\u001b[0mdegree\u001b[0m\u001b[0;34m(\u001b[0m\u001b[0mnode\u001b[0m\u001b[0;34m)\u001b[0m \u001b[0;32mfor\u001b[0m \u001b[0mnode\u001b[0m \u001b[0;32min\u001b[0m \u001b[0mrange\u001b[0m\u001b[0;34m(\u001b[0m\u001b[0mG\u001b[0m\u001b[0;34m.\u001b[0m\u001b[0mnumber_of_nodes\u001b[0m\u001b[0;34m(\u001b[0m\u001b[0;34m)\u001b[0m\u001b[0;34m)\u001b[0m\u001b[0;34m]\u001b[0m\u001b[0;34m\u001b[0m\u001b[0;34m\u001b[0m\u001b[0m\n\u001b[0m\u001b[1;32m      4\u001b[0m D_1 = coo_matrix((degs, (ind, ind)),\n\u001b[1;32m      5\u001b[0m                          shape=(G.number_of_nodes(), \n",
            "\u001b[0;31mZeroDivisionError\u001b[0m: float division by zero"
          ]
        }
      ]
    },
    {
      "cell_type": "code",
      "source": [
        "# calculate embeddings \n",
        " \n",
        "embeddings = []\n",
        "for step in tqdm(range(order)): \n",
        "    target_matrix = get_target_matrix(A) \n",
        "\n",
        "    svd = TruncatedSVD(n_components=dimensions,\n",
        "                        n_iter=iterations,\n",
        "                        random_state=random_state)\n",
        "\n",
        "    svd.fit(target_matrix)\n",
        "    embedding = svd.transform(target_matrix)\n",
        "    embeddings.append(embedding)\n",
        "implemented_embeddings = np.concatenate(np.array(embeddings),axis=1) "
      ],
      "metadata": {
        "id": "khXltZIqt7ic"
      },
      "execution_count": null,
      "outputs": []
    },
    {
      "cell_type": "code",
      "source": [
        "y = dataset.data['y'] "
      ],
      "metadata": {
        "id": "B8raOVLJ2FpQ"
      },
      "execution_count": null,
      "outputs": []
    },
    {
      "cell_type": "code",
      "source": [
        "X_train, X_test, y_train, y_test = train_test_split(implemented_embeddings, y, random_state=random_state, test_size=test_size) \n",
        "model = LogisticRegression(max_iter=int(1e5)) \n",
        "model.fit(X_train, y_train) \n",
        "y_pred = model.predict(X_test) \n",
        "print(accuracy_score(y_test,y_pred)) "
      ],
      "metadata": {
        "id": "7KXLeroUVa98"
      },
      "execution_count": null,
      "outputs": []
    },
    {
      "cell_type": "code",
      "source": [
        "# karateclub model\n",
        "\n",
        "model = GraRep(dimensions=dimensions, iteration=iterations, order=order, seed=random_state) \n",
        "model.fit(G) \n",
        "karateclub_embeddings = model.get_embedding() "
      ],
      "metadata": {
        "id": "3sm89l2WSMPj"
      },
      "execution_count": null,
      "outputs": []
    },
    {
      "cell_type": "code",
      "source": [
        "X_train, X_test, y_train, y_test = train_test_split(karateclub_embeddings, y, random_state=random_state, test_size=test_size) \n",
        "model = LogisticRegression() \n",
        "model.fit(X_train, y_train) \n",
        "y_pred = model.predict(X_test) \n",
        "print(accuracy_score(y_test,y_pred))"
      ],
      "metadata": {
        "id": "NpPiHSycT0Qf"
      },
      "execution_count": null,
      "outputs": []
    }
  ]
}