{
  "nbformat": 4,
  "nbformat_minor": 0,
  "metadata": {
    "colab": {
      "provenance": [],
      "collapsed_sections": []
    },
    "kernelspec": {
      "name": "python3",
      "display_name": "Python 3"
    },
    "language_info": {
      "name": "python"
    }
  },
  "cells": [
    {
      "cell_type": "code",
      "source": [
        "!pip install -U gensim karateclub ogb "
      ],
      "metadata": {
        "colab": {
          "base_uri": "https://localhost:8080/"
        },
        "id": "8d_MJwuOQ69D",
        "outputId": "9b3fd405-1431-4c29-99b3-590e9deb4fa1"
      },
      "execution_count": 25,
      "outputs": [
        {
          "output_type": "stream",
          "name": "stdout",
          "text": [
            "Looking in indexes: https://pypi.org/simple, https://us-python.pkg.dev/colab-wheels/public/simple/\n",
            "Requirement already satisfied: gensim in /usr/local/lib/python3.7/dist-packages (4.2.0)\n",
            "Requirement already satisfied: karateclub in /usr/local/lib/python3.7/dist-packages (1.3.3)\n",
            "Requirement already satisfied: ogb in /usr/local/lib/python3.7/dist-packages (1.3.5)\n",
            "Requirement already satisfied: numpy>=1.17.0 in /usr/local/lib/python3.7/dist-packages (from gensim) (1.21.6)\n",
            "Requirement already satisfied: smart-open>=1.8.1 in /usr/local/lib/python3.7/dist-packages (from gensim) (5.2.1)\n",
            "Requirement already satisfied: scipy>=0.18.1 in /usr/local/lib/python3.7/dist-packages (from gensim) (1.7.3)\n",
            "Requirement already satisfied: tqdm in /usr/local/lib/python3.7/dist-packages (from karateclub) (4.64.1)\n",
            "Requirement already satisfied: pandas<=1.3.5 in /usr/local/lib/python3.7/dist-packages (from karateclub) (1.3.5)\n",
            "Requirement already satisfied: six in /usr/local/lib/python3.7/dist-packages (from karateclub) (1.15.0)\n",
            "Requirement already satisfied: networkx<2.7 in /usr/local/lib/python3.7/dist-packages (from karateclub) (2.6.3)\n",
            "Requirement already satisfied: python-Levenshtein in /usr/local/lib/python3.7/dist-packages (from karateclub) (0.20.8)\n",
            "Requirement already satisfied: pygsp in /usr/local/lib/python3.7/dist-packages (from karateclub) (0.5.1)\n",
            "Requirement already satisfied: scikit-learn in /usr/local/lib/python3.7/dist-packages (from karateclub) (1.0.2)\n",
            "Requirement already satisfied: decorator==4.4.2 in /usr/local/lib/python3.7/dist-packages (from karateclub) (4.4.2)\n",
            "Requirement already satisfied: python-louvain in /usr/local/lib/python3.7/dist-packages (from karateclub) (0.16)\n",
            "Requirement already satisfied: pytz>=2017.3 in /usr/local/lib/python3.7/dist-packages (from pandas<=1.3.5->karateclub) (2022.6)\n",
            "Requirement already satisfied: python-dateutil>=2.7.3 in /usr/local/lib/python3.7/dist-packages (from pandas<=1.3.5->karateclub) (2.8.2)\n",
            "Requirement already satisfied: urllib3>=1.24.0 in /usr/local/lib/python3.7/dist-packages (from ogb) (1.24.3)\n",
            "Requirement already satisfied: outdated>=0.2.0 in /usr/local/lib/python3.7/dist-packages (from ogb) (0.2.2)\n",
            "Requirement already satisfied: torch>=1.6.0 in /usr/local/lib/python3.7/dist-packages (from ogb) (1.12.1+cu113)\n",
            "Requirement already satisfied: requests in /usr/local/lib/python3.7/dist-packages (from outdated>=0.2.0->ogb) (2.23.0)\n",
            "Requirement already satisfied: littleutils in /usr/local/lib/python3.7/dist-packages (from outdated>=0.2.0->ogb) (0.2.2)\n",
            "Requirement already satisfied: setuptools>=44 in /usr/local/lib/python3.7/dist-packages (from outdated>=0.2.0->ogb) (57.4.0)\n",
            "Requirement already satisfied: threadpoolctl>=2.0.0 in /usr/local/lib/python3.7/dist-packages (from scikit-learn->karateclub) (3.1.0)\n",
            "Requirement already satisfied: joblib>=0.11 in /usr/local/lib/python3.7/dist-packages (from scikit-learn->karateclub) (1.2.0)\n",
            "Requirement already satisfied: typing-extensions in /usr/local/lib/python3.7/dist-packages (from torch>=1.6.0->ogb) (4.1.1)\n",
            "Requirement already satisfied: Levenshtein==0.20.8 in /usr/local/lib/python3.7/dist-packages (from python-Levenshtein->karateclub) (0.20.8)\n",
            "Requirement already satisfied: rapidfuzz<3.0.0,>=2.3.0 in /usr/local/lib/python3.7/dist-packages (from Levenshtein==0.20.8->python-Levenshtein->karateclub) (2.13.2)\n",
            "Requirement already satisfied: certifi>=2017.4.17 in /usr/local/lib/python3.7/dist-packages (from requests->outdated>=0.2.0->ogb) (2022.9.24)\n",
            "Requirement already satisfied: idna<3,>=2.5 in /usr/local/lib/python3.7/dist-packages (from requests->outdated>=0.2.0->ogb) (2.10)\n",
            "Requirement already satisfied: chardet<4,>=3.0.2 in /usr/local/lib/python3.7/dist-packages (from requests->outdated>=0.2.0->ogb) (3.0.4)\n"
          ]
        }
      ]
    },
    {
      "cell_type": "code",
      "source": [
        "# https://stackoverflow.com/questions/68860621/ogb-dataset-i-can-not-import-pygnodeproppreddataset-from-ogb-nodeproppred\n",
        "# https://stackoverflow.com/questions/67285115/building-wheels-for-torch-sparse-in-colab-takes-forever/73534928#73534928\n",
        "\n",
        "import torch\n",
        "\n",
        "!pip uninstall torch-scatter torch-sparse torch-geometric torch-cluster  --y\n",
        "!pip install torch-scatter -f https://data.pyg.org/whl/torch-{torch.__version__}.html\n",
        "!pip install torch-sparse -f https://data.pyg.org/whl/torch-{torch.__version__}.html\n",
        "!pip install torch-cluster -f https://data.pyg.org/whl/torch-{torch.__version__}.html\n",
        "!pip install git+https://github.com/pyg-team/pytorch_geometric.git"
      ],
      "metadata": {
        "colab": {
          "base_uri": "https://localhost:8080/",
          "height": 1000
        },
        "id": "UqeB38enkn4u",
        "outputId": "5e0fdc28-4ad2-4a9d-bc2d-019eace11823"
      },
      "execution_count": 26,
      "outputs": [
        {
          "output_type": "stream",
          "name": "stdout",
          "text": [
            "Found existing installation: torch-scatter 2.0.9\n",
            "Uninstalling torch-scatter-2.0.9:\n",
            "  Successfully uninstalled torch-scatter-2.0.9\n",
            "Found existing installation: torch-sparse 0.6.15\n",
            "Uninstalling torch-sparse-0.6.15:\n",
            "  Successfully uninstalled torch-sparse-0.6.15\n",
            "Found existing installation: torch-geometric 2.1.0\n",
            "Uninstalling torch-geometric-2.1.0:\n",
            "  Successfully uninstalled torch-geometric-2.1.0\n",
            "Found existing installation: torch-cluster 1.6.0\n",
            "Uninstalling torch-cluster-1.6.0:\n",
            "  Successfully uninstalled torch-cluster-1.6.0\n",
            "Looking in indexes: https://pypi.org/simple, https://us-python.pkg.dev/colab-wheels/public/simple/\n",
            "Looking in links: https://data.pyg.org/whl/torch-1.12.1+cu113.html\n",
            "Collecting torch-scatter\n",
            "  Using cached https://data.pyg.org/whl/torch-1.12.0%2Bcu113/torch_scatter-2.0.9-cp37-cp37m-linux_x86_64.whl (7.9 MB)\n",
            "Installing collected packages: torch-scatter\n",
            "Successfully installed torch-scatter-2.0.9\n"
          ]
        },
        {
          "output_type": "display_data",
          "data": {
            "application/vnd.colab-display-data+json": {
              "pip_warning": {
                "packages": [
                  "torch_scatter"
                ]
              }
            }
          },
          "metadata": {}
        },
        {
          "output_type": "stream",
          "name": "stdout",
          "text": [
            "Looking in indexes: https://pypi.org/simple, https://us-python.pkg.dev/colab-wheels/public/simple/\n",
            "Looking in links: https://data.pyg.org/whl/torch-1.12.1+cu113.html\n",
            "Collecting torch-sparse\n",
            "  Using cached https://data.pyg.org/whl/torch-1.12.0%2Bcu113/torch_sparse-0.6.15-cp37-cp37m-linux_x86_64.whl (3.5 MB)\n",
            "Requirement already satisfied: scipy in /usr/local/lib/python3.7/dist-packages (from torch-sparse) (1.7.3)\n",
            "Requirement already satisfied: numpy<1.23.0,>=1.16.5 in /usr/local/lib/python3.7/dist-packages (from scipy->torch-sparse) (1.21.6)\n",
            "Installing collected packages: torch-sparse\n",
            "Successfully installed torch-sparse-0.6.15\n"
          ]
        },
        {
          "output_type": "display_data",
          "data": {
            "application/vnd.colab-display-data+json": {
              "pip_warning": {
                "packages": [
                  "torch_sparse"
                ]
              }
            }
          },
          "metadata": {}
        },
        {
          "output_type": "stream",
          "name": "stdout",
          "text": [
            "Looking in indexes: https://pypi.org/simple, https://us-python.pkg.dev/colab-wheels/public/simple/\n",
            "Looking in links: https://data.pyg.org/whl/torch-1.12.1+cu113.html\n",
            "Collecting torch-cluster\n",
            "  Using cached https://data.pyg.org/whl/torch-1.12.0%2Bcu113/torch_cluster-1.6.0-cp37-cp37m-linux_x86_64.whl (2.4 MB)\n",
            "Installing collected packages: torch-cluster\n",
            "Successfully installed torch-cluster-1.6.0\n"
          ]
        },
        {
          "output_type": "display_data",
          "data": {
            "application/vnd.colab-display-data+json": {
              "pip_warning": {
                "packages": [
                  "torch_cluster"
                ]
              }
            }
          },
          "metadata": {}
        },
        {
          "output_type": "stream",
          "name": "stdout",
          "text": [
            "Looking in indexes: https://pypi.org/simple, https://us-python.pkg.dev/colab-wheels/public/simple/\n",
            "Collecting git+https://github.com/pyg-team/pytorch_geometric.git\n",
            "  Cloning https://github.com/pyg-team/pytorch_geometric.git to /tmp/pip-req-build-1cb4eeoy\n",
            "  Running command git clone -q https://github.com/pyg-team/pytorch_geometric.git /tmp/pip-req-build-1cb4eeoy\n",
            "Requirement already satisfied: tqdm in /usr/local/lib/python3.7/dist-packages (from torch-geometric==2.1.0) (4.64.1)\n",
            "Requirement already satisfied: numpy in /usr/local/lib/python3.7/dist-packages (from torch-geometric==2.1.0) (1.21.6)\n",
            "Requirement already satisfied: scipy in /usr/local/lib/python3.7/dist-packages (from torch-geometric==2.1.0) (1.7.3)\n",
            "Requirement already satisfied: jinja2 in /usr/local/lib/python3.7/dist-packages (from torch-geometric==2.1.0) (2.11.3)\n",
            "Requirement already satisfied: requests in /usr/local/lib/python3.7/dist-packages (from torch-geometric==2.1.0) (2.23.0)\n",
            "Requirement already satisfied: pyparsing in /usr/local/lib/python3.7/dist-packages (from torch-geometric==2.1.0) (3.0.9)\n",
            "Requirement already satisfied: scikit-learn in /usr/local/lib/python3.7/dist-packages (from torch-geometric==2.1.0) (1.0.2)\n",
            "Requirement already satisfied: MarkupSafe>=0.23 in /usr/local/lib/python3.7/dist-packages (from jinja2->torch-geometric==2.1.0) (2.0.1)\n",
            "Requirement already satisfied: urllib3!=1.25.0,!=1.25.1,<1.26,>=1.21.1 in /usr/local/lib/python3.7/dist-packages (from requests->torch-geometric==2.1.0) (1.24.3)\n",
            "Requirement already satisfied: certifi>=2017.4.17 in /usr/local/lib/python3.7/dist-packages (from requests->torch-geometric==2.1.0) (2022.9.24)\n",
            "Requirement already satisfied: idna<3,>=2.5 in /usr/local/lib/python3.7/dist-packages (from requests->torch-geometric==2.1.0) (2.10)\n",
            "Requirement already satisfied: chardet<4,>=3.0.2 in /usr/local/lib/python3.7/dist-packages (from requests->torch-geometric==2.1.0) (3.0.4)\n",
            "Requirement already satisfied: joblib>=0.11 in /usr/local/lib/python3.7/dist-packages (from scikit-learn->torch-geometric==2.1.0) (1.2.0)\n",
            "Requirement already satisfied: threadpoolctl>=2.0.0 in /usr/local/lib/python3.7/dist-packages (from scikit-learn->torch-geometric==2.1.0) (3.1.0)\n",
            "Building wheels for collected packages: torch-geometric\n",
            "  Building wheel for torch-geometric (setup.py) ... \u001b[?25l\u001b[?25hdone\n",
            "  Created wheel for torch-geometric: filename=torch_geometric-2.1.0-py3-none-any.whl size=755541 sha256=f9e0626487821bff372ec7f51196975d4e472488011cf4523b2eebceaa796816\n",
            "  Stored in directory: /tmp/pip-ephem-wheel-cache-ynipglxv/wheels/85/c9/07/7936efecad79b906348a7e9fb644d914160544efa9aa7f4b2b\n",
            "Successfully built torch-geometric\n",
            "Installing collected packages: torch-geometric\n",
            "Successfully installed torch-geometric-2.1.0\n"
          ]
        },
        {
          "output_type": "display_data",
          "data": {
            "application/vnd.colab-display-data+json": {
              "pip_warning": {
                "packages": [
                  "torch_geometric"
                ]
              }
            }
          },
          "metadata": {}
        }
      ]
    },
    {
      "cell_type": "code",
      "execution_count": 27,
      "metadata": {
        "id": "RgAhrVuf9ROe"
      },
      "outputs": [],
      "source": [
        "from karateclub import GraRep \n",
        "from ogb.nodeproppred import PygNodePropPredDataset \n",
        "from scipy.sparse import coo_matrix, identity\n",
        "from sklearn.decomposition import TruncatedSVD\n",
        "from sklearn.linear_model import LogisticRegression\n",
        "from sklearn.metrics import accuracy_score, classification_report\n",
        "from sklearn.model_selection import train_test_split \n",
        "from torch_geometric.utils import to_networkx\n",
        "from typing import List \n",
        "from tqdm import tqdm \n",
        "\n",
        "import math \n",
        "import matplotlib.pyplot as plt \n",
        "import networkx as nx \n",
        "import numpy as np \n",
        "import pandas as pd \n",
        "import random \n",
        "import torch \n",
        "\n",
        "import warnings\n",
        "warnings.filterwarnings(\"ignore\")"
      ]
    },
    {
      "cell_type": "code",
      "source": [
        "def sparse_identity_matrix(dim, dtype=np.float32):\n",
        "    A = identity(dim, dtype=dtype) \n",
        "    A = coo_matrix(A)  \n",
        "    return A \n",
        "\n",
        "def get_target_matrix(A):\n",
        "    A_hat = sparse_identity_matrix(A.shape[0]) \n",
        "    scores = np.log(A_hat.data) - math.log(A.shape[0]) \n",
        "    rows = A_hat.row[scores < 0]\n",
        "    cols = A_hat.col[scores < 0]\n",
        "    scores = scores[scores < 0]\n",
        "    target_matrix = coo_matrix((scores, (rows, cols)),\n",
        "                                        shape=A.shape,\n",
        "                                        dtype=np.float32) \n",
        "    return target_matrix"
      ],
      "metadata": {
        "id": "3dHy36vKv2Qx"
      },
      "execution_count": 28,
      "outputs": []
    },
    {
      "cell_type": "code",
      "source": [
        "dimensions = 64   \n",
        "max_nodes = None # select a subset of nodes for large datasets \n",
        "node_sampling_stategy = 'sequential' # ('random', 'sequential') \n",
        "order = 5 # K \n",
        "iterations = 100 # number of SVD iterations \n",
        "max_iter = int(1e5) # LogisticRegression \n",
        "random_state = 42 \n",
        "test_size = 0.2 "
      ],
      "metadata": {
        "id": "S_WlfOjuSXBe"
      },
      "execution_count": 29,
      "outputs": []
    },
    {
      "cell_type": "code",
      "source": [
        "dataset = PygNodePropPredDataset('ogbn-arxiv') \n",
        "G = to_networkx(dataset.data, to_undirected=False)\n",
        "if max_nodes is not None:\n",
        "    if node_sampling_stategy=='random':\n",
        "        subset_nodes = random.sample(G.nodes, max_nodes)\n",
        "    else:\n",
        "        subset_nodes = list(G.nodes)[:max_nodes] \n",
        "    G = G.subgraph(subset_nodes) \n",
        "    mapping = {v:w for w,v in enumerate(sorted(G))}\n",
        "    G = nx.relabel_nodes(G, mapping) "
      ],
      "metadata": {
        "id": "6vFKD4KzpWKp"
      },
      "execution_count": 30,
      "outputs": []
    },
    {
      "cell_type": "code",
      "source": [
        "# calculate the inverse degree matrix \n",
        "ind = range(len(G.nodes())) \n",
        "degs = [1.0/G.degree(node) for node in range(G.number_of_nodes())] \n",
        "D_1 = coo_matrix((degs, (ind, ind)),\n",
        "                         shape=(G.number_of_nodes(), \n",
        "                         G.number_of_nodes()), \n",
        "                         dtype=np.float32) \n",
        "\n",
        "# (1-step) probability transition matrix \n",
        "A = coo_matrix(nx.adjacency_matrix(G), dtype=np.float32)\n",
        "A = A.dot(D_1)   "
      ],
      "metadata": {
        "id": "xUQE3T4vq6dS"
      },
      "execution_count": 31,
      "outputs": []
    },
    {
      "cell_type": "code",
      "source": [
        "# calculate embeddings \n",
        " \n",
        "embeddings = []\n",
        "for step in tqdm(range(order)): \n",
        "    target_matrix = get_target_matrix(A) \n",
        "\n",
        "    svd = TruncatedSVD(n_components=dimensions,\n",
        "                        n_iter=iterations,\n",
        "                        random_state=random_state)\n",
        "\n",
        "    svd.fit(target_matrix)\n",
        "    embedding = svd.transform(target_matrix)\n",
        "    embeddings.append(embedding)\n",
        "implemented_embeddings = np.concatenate(np.array(embeddings),axis=1) "
      ],
      "metadata": {
        "colab": {
          "base_uri": "https://localhost:8080/"
        },
        "id": "khXltZIqt7ic",
        "outputId": "1e038943-2ddd-499f-e790-baccbe822372"
      },
      "execution_count": 32,
      "outputs": [
        {
          "output_type": "stream",
          "name": "stderr",
          "text": [
            "100%|██████████| 5/5 [05:33<00:00, 66.69s/it]\n"
          ]
        }
      ]
    },
    {
      "cell_type": "code",
      "source": [
        "y = dataset.data['y'] "
      ],
      "metadata": {
        "id": "B8raOVLJ2FpQ"
      },
      "execution_count": 33,
      "outputs": []
    },
    {
      "cell_type": "code",
      "source": [
        "X_train, X_test, y_train, y_test = train_test_split(implemented_embeddings, y, random_state=random_state, test_size=test_size) \n",
        "\n",
        "model = LogisticRegression(max_iter=max_iter) \n",
        "model.fit(X_train, y_train) \n",
        "y_pred = model.predict(X_test) \n",
        "print(accuracy_score(y_test,y_pred)) "
      ],
      "metadata": {
        "colab": {
          "base_uri": "https://localhost:8080/"
        },
        "id": "7KXLeroUVa98",
        "outputId": "cb36f06c-b211-42a2-d0ca-0d73a387b522"
      },
      "execution_count": 34,
      "outputs": [
        {
          "output_type": "stream",
          "name": "stdout",
          "text": [
            "0.1587292214119106\n"
          ]
        }
      ]
    },
    {
      "cell_type": "code",
      "source": [
        "# # karateclub model\n",
        "\n",
        "# model = GraRep(dimensions=dimensions, iteration=iterations, order=order, seed=random_state) \n",
        "# model.fit(G) \n",
        "# karateclub_embeddings = model.get_embedding() "
      ],
      "metadata": {
        "id": "3sm89l2WSMPj"
      },
      "execution_count": 35,
      "outputs": []
    },
    {
      "cell_type": "code",
      "source": [
        "# X_train, X_test, y_train, y_test = train_test_split(karateclub_embeddings, y, random_state=random_state, test_size=test_size) \n",
        "# model = LogisticRegression() \n",
        "# model.fit(X_train, y_train) \n",
        "# y_pred = model.predict(X_test) \n",
        "# print(accuracy_score(y_test,y_pred))"
      ],
      "metadata": {
        "id": "NpPiHSycT0Qf"
      },
      "execution_count": 36,
      "outputs": []
    }
  ]
}